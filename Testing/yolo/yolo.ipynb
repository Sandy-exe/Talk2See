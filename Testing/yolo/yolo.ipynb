{
 "cells": [
  {
   "cell_type": "code",
   "execution_count": 2,
   "metadata": {},
   "outputs": [],
   "source": [
    "import cv2\n",
    "\n",
    "from ultralytics import YOLO, solutions\n",
    "model = YOLO(\"yolov8m.pt\")\n"
   ]
  },
  {
   "cell_type": "code",
   "execution_count": 1,
   "metadata": {},
   "outputs": [
    {
     "ename": "NameError",
     "evalue": "name 'model' is not defined",
     "output_type": "error",
     "traceback": [
      "\u001b[0;31m---------------------------------------------------------------------------\u001b[0m",
      "\u001b[0;31mNameError\u001b[0m                                 Traceback (most recent call last)",
      "Cell \u001b[0;32mIn[1], line 1\u001b[0m\n\u001b[0;32m----> 1\u001b[0m results \u001b[38;5;241m=\u001b[39m \u001b[43mmodel\u001b[49m(\u001b[38;5;124m\"\u001b[39m\u001b[38;5;124mDOGS.jpeg\u001b[39m\u001b[38;5;124m\"\u001b[39m)\n\u001b[1;32m      3\u001b[0m \u001b[38;5;66;03m# Display the results\u001b[39;00m\n\u001b[1;32m      4\u001b[0m results[\u001b[38;5;241m0\u001b[39m]\u001b[38;5;241m.\u001b[39mshow()\n",
      "\u001b[0;31mNameError\u001b[0m: name 'model' is not defined"
     ]
    }
   ],
   "source": [
    "results = model(\"DOGS.jpeg\")\n",
    "\n",
    "# Display the results\n",
    "results[0].show()"
   ]
  },
  {
   "cell_type": "code",
   "execution_count": 2,
   "metadata": {},
   "outputs": [
    {
     "ename": "ModuleNotFoundError",
     "evalue": "No module named 'mediapipe'",
     "output_type": "error",
     "traceback": [
      "\u001b[0;31m---------------------------------------------------------------------------\u001b[0m",
      "\u001b[0;31mModuleNotFoundError\u001b[0m                       Traceback (most recent call last)",
      "Cell \u001b[0;32mIn[2], line 3\u001b[0m\n\u001b[1;32m      1\u001b[0m \u001b[38;5;28;01mimport\u001b[39;00m \u001b[38;5;21;01mcv2\u001b[39;00m\n\u001b[1;32m      2\u001b[0m \u001b[38;5;28;01mimport\u001b[39;00m \u001b[38;5;21;01mnumpy\u001b[39;00m \u001b[38;5;28;01mas\u001b[39;00m \u001b[38;5;21;01mnp\u001b[39;00m\n\u001b[0;32m----> 3\u001b[0m \u001b[38;5;28;01mfrom\u001b[39;00m \u001b[38;5;21;01mcvzone\u001b[39;00m\u001b[38;5;21;01m.\u001b[39;00m\u001b[38;5;21;01mFaceMeshModule\u001b[39;00m \u001b[38;5;28;01mimport\u001b[39;00m FaceMeshDetector\n\u001b[1;32m      4\u001b[0m \u001b[38;5;28;01mfrom\u001b[39;00m \u001b[38;5;21;01myour_module\u001b[39;00m \u001b[38;5;28;01mimport\u001b[39;00m solutions  \u001b[38;5;66;03m# Ensure the DistanceCalculation class is correctly imported\u001b[39;00m\n\u001b[1;32m      5\u001b[0m \u001b[38;5;28;01mfrom\u001b[39;00m \u001b[38;5;21;01multralytics\u001b[39;00m \u001b[38;5;28;01mimport\u001b[39;00m YOLO  \u001b[38;5;66;03m# Ensure YOLO model is imported\u001b[39;00m\n",
      "File \u001b[0;32m~/.local/lib/python3.10/site-packages/cvzone/FaceMeshModule.py:8\u001b[0m\n\u001b[1;32m      1\u001b[0m \u001b[38;5;124;03m\"\"\"\u001b[39;00m\n\u001b[1;32m      2\u001b[0m \u001b[38;5;124;03mFace Mesh Module\u001b[39;00m\n\u001b[1;32m      3\u001b[0m \u001b[38;5;124;03mBy: Computer Vision Zone\u001b[39;00m\n\u001b[1;32m      4\u001b[0m \u001b[38;5;124;03mWebsite: https://www.computervision.zone/\u001b[39;00m\n\u001b[1;32m      5\u001b[0m \u001b[38;5;124;03m\"\"\"\u001b[39;00m\n\u001b[1;32m      7\u001b[0m \u001b[38;5;28;01mimport\u001b[39;00m \u001b[38;5;21;01mcv2\u001b[39;00m\n\u001b[0;32m----> 8\u001b[0m \u001b[38;5;28;01mimport\u001b[39;00m \u001b[38;5;21;01mmediapipe\u001b[39;00m \u001b[38;5;28;01mas\u001b[39;00m \u001b[38;5;21;01mmp\u001b[39;00m\n\u001b[1;32m      9\u001b[0m \u001b[38;5;28;01mimport\u001b[39;00m \u001b[38;5;21;01mmath\u001b[39;00m\n\u001b[1;32m     12\u001b[0m \u001b[38;5;28;01mclass\u001b[39;00m \u001b[38;5;21;01mFaceMeshDetector\u001b[39;00m:\n",
      "\u001b[0;31mModuleNotFoundError\u001b[0m: No module named 'mediapipe'"
     ]
    }
   ],
   "source": [
    "import cv2\n",
    "import numpy as np\n",
    "from cvzone.FaceMeshModule import FaceMeshDetector\n",
    "from your_module import solutions  # Ensure the DistanceCalculation class is correctly imported\n",
    "from ultralytics import YOLO  # Ensure YOLO model is imported\n",
    "\n",
    "# Load YOLO model\n",
    "model = YOLO(\"yolov8m.pt\")  # Adjust to your model's path\n",
    "\n",
    "# Initialize video capture and object detection\n",
    "cap = cv2.VideoCapture(0)\n",
    "assert cap.isOpened(), \"Error opening camera\"\n",
    "w, h, fps = (int(cap.get(x)) for x in (cv2.CAP_PROP_FRAME_WIDTH, cv2.CAP_PROP_FRAME_HEIGHT, cv2.CAP_PROP_FPS))\n",
    "\n",
    "# Initialize video writer (optional, if you want to save the video)\n",
    "video_writer = cv2.VideoWriter(\"distance_calculation.avi\", cv2.VideoWriter_fourcc(*\"mp4v\"), fps, (w, h))\n",
    "\n",
    "# Initialize distance-calculation object\n",
    "names = model.model.names\n",
    "dist_obj = solutions.DistanceCalculation(names=names, view_img=True)\n",
    "\n",
    "# Initialize FaceMeshDetector\n",
    "face_detector = FaceMeshDetector(maxFaces=1)\n",
    "\n",
    "while True:\n",
    "    success, im0 = cap.read()\n",
    "    if not success:\n",
    "        print(\"Failed to grab frame or camera feed has ended.\")\n",
    "        break\n",
    "\n",
    "    # Perform object tracking with YOLO\n",
    "    tracks = model.track(im0, persist=True, show=False)\n",
    "    im0 = dist_obj.start_process(im0, tracks)\n",
    "    \n",
    "    # Perform face mesh detection\n",
    "    img, faces = face_detector.findFaceMesh(im0, draw=False)\n",
    "    \n",
    "    if faces:\n",
    "        face = faces[0]\n",
    "        pointLeft = face[145]\n",
    "        pointRight = face[374]\n",
    "        w, _ = face_detector.findDistance(pointLeft, pointRight)\n",
    "        W = 6.3  # Width of face model in cm\n",
    "        \n",
    "        # Calculate distance\n",
    "        f = 840  # Focal length (example value)\n",
    "        d = (W * f) / w\n",
    "        \n",
    "        # Display distance on frame\n",
    "        cv2.putText(im0, f'Depth: {int(d)}cm', \n",
    "                    (face[10][0] - 100, face[10][1] - 50),\n",
    "                    cv2.FONT_HERSHEY_SIMPLEX, 1, (0, 255, 0), 2)\n",
    "    \n",
    "    # Display the frame\n",
    "    cv2.imshow(\"Camera Feed\", im0)\n",
    "    \n",
    "    # Optional: Write the frame to video file\n",
    "    video_writer.write(im0)\n",
    "\n",
    "    # Exit on pressing 'q'\n",
    "    if cv2.waitKey(1) & 0xFF == ord('q'):\n",
    "        break\n",
    "\n",
    "# Release resources\n",
    "cap.release()\n",
    "video_writer.release()\n",
    "cv2.destroyAllWindows()\n"
   ]
  }
 ],
 "metadata": {
  "kernelspec": {
   "display_name": "Python 3",
   "language": "python",
   "name": "python3"
  },
  "language_info": {
   "codemirror_mode": {
    "name": "ipython",
    "version": 3
   },
   "file_extension": ".py",
   "mimetype": "text/x-python",
   "name": "python",
   "nbconvert_exporter": "python",
   "pygments_lexer": "ipython3",
   "version": "3.10.12"
  }
 },
 "nbformat": 4,
 "nbformat_minor": 2
}
